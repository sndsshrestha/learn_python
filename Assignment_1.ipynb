{
 "cells": [
  {
   "cell_type": "markdown",
   "metadata": {},
   "source": [
    "# Assignment 1 - Axelrods tournament"
   ]
  },
  {
   "cell_type": "markdown",
   "metadata": {},
   "source": [
    "#### When you have finished <font color=\"red\">download this page as an IP Notebook file</font> (File -> Download as -> IPython Notebook (.ipynb) ) and then upload to WOLF by midnight on Friday 17/11/2017"
   ]
  },
  {
   "cell_type": "markdown",
   "metadata": {},
   "source": [
    "#### <font color=\"purple\">Please enter your Student Number in the space provided below</font>"
   ]
  },
  {
   "cell_type": "code",
   "execution_count": 1,
   "metadata": {
    "collapsed": true
   },
   "outputs": [],
   "source": [
    "#NP03A160073"
   ]
  },
  {
   "cell_type": "markdown",
   "metadata": {},
   "source": [
    "Implement a series of player/agents to play the prisoners dilemma against each other for Axelrod’s tournament and see which strategy performs the best overall.  This assignment is worth <b>40%</b> of the module.<br>Below is the code for a very simple player use this as a template for the design of your other players.  "
   ]
  },
  {
   "cell_type": "markdown",
   "metadata": {},
   "source": [
    "<font color=\"red\"><b>Q-1:</b></font><font color=\"purple\">You will devise and add your tournament players in the space below.  You should produce a minimum of 6 different strategies, comment your code to indicate the name or nature of the strategy.</font> <b> (4 marks each)</b><br><br>Each player should be in a class name prefixed with the name Player, so if your player is to be called <b><font color=\"purple\">Bond</font></b> your class name should be Player<b><font color=\"purple\">Bond</font></b>.  Each player class should contain one method with the prototype<br> \n",
    "&emsp;&emsp;&emsp;&emsp;<b><font color=\"blue\">move</font>(<font color=\"red\">self, history</font>)</b><br>The history parameter gives two lists the history of player's moves against the current opponent and the history of the opponent's aginst the player. The method should also <b><font color=\"blue\">return</font></b> either a <b><font color=\"green\">'C'</font></b> or a <b><font color=\"green\">'D'</font></b> for cooperate or defect respectively. <i>Note: You can place multiple Player classes in the space provided below.</i> "
   ]
  },
  {
   "cell_type": "code",
   "execution_count": 2,
   "metadata": {},
   "outputs": [],
   "source": [
    "class PlayerCommute:\n",
    "\n",
    "    def move(self, history):\n",
    "        mine, theirs = history\n",
    "        return 'C'"
   ]
  },
  {
   "cell_type": "code",
   "execution_count": 3,
   "metadata": {},
   "outputs": [],
   "source": [
    "class PlayerDecieve:\n",
    "\n",
    "    def move(self, history):\n",
    "        mine, theirs = history\n",
    "        return 'D'"
   ]
  },
  {
   "cell_type": "code",
   "execution_count": 4,
   "metadata": {},
   "outputs": [],
   "source": [
    "## This player simply cooperates on even rounds\n",
    "## and defaults on the odd numbered rounds\n",
    "class PlayerEqual:\n",
    "\n",
    "    def move(self, history):\n",
    "        mine, theirs = history\n",
    "        number = random.randint(1,2)\n",
    "        if number == 2:\n",
    "            return 'C'\n",
    "        else:\n",
    "            return 'D'        "
   ]
  },
  {
   "cell_type": "code",
   "execution_count": 5,
   "metadata": {},
   "outputs": [],
   "source": [
    "import random\n",
    "class PlayerDice:\n",
    "    \n",
    "    def move(self, history):\n",
    "        mine, theirs = history\n",
    "        value = random.randint(1,6)\n",
    "        if value<3:\n",
    "            return 'C'\n",
    "        else:\n",
    "            return 'D'\n",
    "    "
   ]
  },
  {
   "cell_type": "code",
   "execution_count": 6,
   "metadata": {},
   "outputs": [],
   "source": [
    "class PlayerAverage:\n",
    "\n",
    "    def move(self, history):\n",
    "        mine, theirs = history\n",
    "        sum = random.randint(1,999)\n",
    "        average = sum/2\n",
    "        \n",
    "        if average >50:\n",
    "            return 'C'\n",
    "        else:\n",
    "            return 'D'"
   ]
  },
  {
   "cell_type": "code",
   "execution_count": 7,
   "metadata": {},
   "outputs": [],
   "source": [
    "class playerfive:\n",
    "\n",
    "    def move(self,history):\n",
    "        mine, theirs = history\n",
    "        if mine == 0:        \n",
    "            return \"D\"    \n",
    "        if theirs > 0:\n",
    "            check = []\n",
    "            (mine, theirs) = history[-1] #Access the most recent move made by both players. History is always a list of tuples consisting of your move and then your opponent's move.\n",
    "            check.append(theirs)          \n",
    "            if \"C\" in check:    \n",
    "                import random\n",
    "                number = random.randint(1,10)\n",
    "                if number == 10:\n",
    "                    return \"D\"\n",
    "                else:\n",
    "                    return \"C\"\n",
    "            else:\n",
    "                return \"D\""
   ]
  },
  {
   "cell_type": "markdown",
   "metadata": {},
   "source": [
    "The code below is a modified version of Allen B. Downey's program to play Axelrods tournament in IPython notepad.  The player code is now read from classes in memory rather than local files and a score for each agent as follows:<br> - 3 if they both cooperate<br> - 1 if they both defect<br> - 5 if a player defects against a cooperating player and<br> - 0 if a player cooperates against a defecting player."
   ]
  },
  {
   "cell_type": "code",
   "execution_count": 8,
   "metadata": {
    "collapsed": true
   },
   "outputs": [],
   "source": [
    "\"\"\" \n",
    "Code example by Allen B. Downey \n",
    "from Complexity and Computation (2011).  \n",
    "Modified by D. Case to work in IPython notebook.\n",
    "\"\"\"\n",
    "## The following are methods/functions/operators that \n",
    "## it is safe to use, if required, in your agent  \n",
    "safe_builtins = \"\"\"\n",
    "abs divmod staticmethod\n",
    "all enumerate int ord str\n",
    "any isinstance pow sum\n",
    "basestring issubclass print super\n",
    "bin iter property tuple\n",
    "bool filter len range type\n",
    "bytearray float list unichr\n",
    "callable format reduce unicode\n",
    "chr frozenset long vars\n",
    "classmethod getattr map repr xrange\n",
    "cmp max reversed zip\n",
    "compile hasattr round\n",
    "complex hash min set apply\n",
    "delattr help next setattr buffer\n",
    "dict hex object slice coerce\n",
    "id oct sorted intern\n",
    "\"\"\"\n",
    "class Player(object):\n",
    "    \"\"\"Represents a player.\n",
    "\n",
    "    Attributes:\n",
    "      filename: file the code was read from\n",
    "      globs: global environment used to execute code\n",
    "      locs: local environment used to execute code\n",
    "    \"\"\"\n",
    "    def __init__(self, filename):\n",
    "        self.filename = filename\n",
    "        self.globs = self.make_globals()\n",
    "        self.locs = self.make_locals()\n",
    "        self.move = filename.move\n",
    "        self.total = 0\n",
    "\n",
    "    def add(self, inc):\n",
    "        self.total += inc\n",
    "\n",
    "    def make_globals(self):\n",
    "        \"\"\"Make the global environment.\"\"\"\n",
    "        try:\n",
    "            t = [(k, __builtins__[k]) for k in safe_builtins.split()]\n",
    "        except TypeError:\n",
    "            t = [(k, getattr(__builtins__, k)) for k in safe_builtins.split()]\n",
    "        safe_dict = dict(__builtins__=dict(t))\n",
    "\n",
    "        safe_list = ['math', 'random']\n",
    "        t = [(k, globals().get(k)) for k in safe_list]\n",
    "        safe_dict.update(t)\n",
    "\n",
    "        return safe_dict\n",
    "\n",
    "    def make_locals(self):\n",
    "        \"\"\"Make the local environment.\"\"\"\n",
    "        return dict()\n",
    "\n",
    "class Referee(object):\n",
    "    def __init__(self, player_dir='.'):\n",
    "        self.player_dir = player_dir\n",
    "\n",
    "    def find_players(self, pattern='Player*.py'):\n",
    "        \"\"\"Find files that match pattern and read players.\n",
    "\n",
    "        Returns a list of Player objects.\n",
    "        \"\"\"\n",
    "        filenames = [val for nm, val in globals().iteritems() if len(nm) > 6 and nm[:6] == 'Player']\n",
    "        filenames.sort()\n",
    "\n",
    "        players = []\n",
    "        for className in filenames:\n",
    "            player = Player(className())\n",
    "            players.append(player)\n",
    "\n",
    "            move = getattr(player, 'move', None)\n",
    "            if not move:\n",
    "                print '%s has no move method.' % className\n",
    "\n",
    "        return players\n",
    "\n",
    "    def run_tournament(self, players, n=50):\n",
    "        \"\"\"Run a tournament that runs each player against the others.\n",
    "\n",
    "        Returns an array of scores.\n",
    "        \"\"\"\n",
    "        results = {}\n",
    "        if len(players) == 1:\n",
    "            self.run_head_to_head(players[0], players[0], n*2)\n",
    "            return\n",
    "        for player1 in players:\n",
    "            for player2 in players:\n",
    "                if player1 == player2:\n",
    "                    continue\n",
    "                self.run_head_to_head(player1, player2, n)\n",
    "        for player1 in players:\n",
    "            results[player1.filename.__class__.__name__] = player1.total\n",
    "        return results\n",
    "\n",
    "    def run_head_to_head(self, player1, player2, n=50):\n",
    "        \"\"\"Run players against each other n times.\n",
    "\n",
    "        Returns a pair of scores.\n",
    "        \"\"\"\n",
    "        moves1 = []\n",
    "        moves2 = []\n",
    "        for i in xrange(n):\n",
    "            move1, move2 = self.one_round(player1, player2, moves1, moves2)\n",
    "            moves1.append(move1)\n",
    "            moves2.append(move2)\n",
    "\n",
    "    def one_round(self, player1, player2, moves1, moves2):\n",
    "        \"\"\"Plays one round and updates the scores.\n",
    "\n",
    "        Returns the players' moves.\n",
    "        \"\"\"\n",
    "        move1 = self.call(player1, (moves1, moves2))\n",
    "        move2 = self.call(player2, (moves2, moves1))\n",
    "        if move1 == move2:\n",
    "            if move1 == 'C':\n",
    "                score = 3\n",
    "            else:\n",
    "                score = 1\n",
    "            player1.add(score)\n",
    "            player2.add(score)\n",
    "        elif move1 == 'C' and move2 == 'D':\n",
    "            player2.add(5)\n",
    "        elif move1 == 'D' and move2 == 'C':\n",
    "            player1.add(5)\n",
    "        return move1, move2\n",
    "\n",
    "    def call(self, player, history):\n",
    "        \"\"\"Calls the player's move function and returns the result.\"\"\"\n",
    "        player.locs['history'] = history\n",
    "        decision = player.move(history)\n",
    "        return decision\n",
    "\n",
    "## Note: the main routine returns a dictionary \n",
    "## of results once the simulation has completed\n",
    "def main(n=100):\n",
    "    ref = Referee()\n",
    "    players = ref.find_players()\n",
    "    return ref.run_tournament(players, n)"
   ]
  },
  {
   "cell_type": "markdown",
   "metadata": {},
   "source": [
    "Calling main routine runs the tournament, the optional parameter specifies the number of rounds played between each pair of players, the default is 100.  The main routine returns a dictionary of results with the performance score for each player agent. For example:<br>&emsp;&emsp;<b><font color=\"green\">{'PlayerGrouch': 404, 'PlayerFlipper': 222, 'PlayerPollyanna': 78}</font></b><br>You <font color=\"red\">should also experiment with different numbers of rounds</font> to observe if the relative performance of the players changes. "
   ]
  },
  {
   "cell_type": "code",
   "execution_count": 11,
   "metadata": {
    "collapsed": false
   },
   "outputs": [
    {
     "name": "stdout",
     "output_type": "stream",
     "text": [
      "{'PlayerCommute': 1032, 'PlayerDice': 2270, 'PlayerDecieve': 3020, 'PlayerEqual': 1984, 'PlayerAverage': 1221}\n"
     ]
    }
   ],
   "source": [
    "## call main to run the tournament\n",
    "print main(100)"
   ]
  },
  {
   "cell_type": "markdown",
   "metadata": {},
   "source": [
    "<font color=\"red\"><b>Q-2:</b></font><font color=\"purple\">The results would be better presented in a bar chart.  Is it possible to produce a bar chart in matplotlib?  <i><b>(Hint: Yes it is)</b></i>.  Research (prio ) how to produce a bar chart in matplotlib and in the space below take the output from running main to produce the plot.</font> <b> (6 marks)</b>"
   ]
  },
  {
   "cell_type": "code",
   "execution_count": null,
   "metadata": {
    "collapsed": true
   },
   "outputs": [],
   "source": []
  },
  {
   "cell_type": "code",
   "execution_count": null,
   "metadata": {},
   "outputs": [],
   "source": []
  },
  {
   "cell_type": "code",
   "execution_count": 12,
   "metadata": {},
   "outputs": [
    {
     "ename": "NameError",
     "evalue": "name 'y_pos' is not defined",
     "output_type": "error",
     "traceback": [
      "\u001b[1;31m\u001b[0m",
      "\u001b[1;31mNameError\u001b[0mTraceback (most recent call last)",
      "\u001b[1;32m<ipython-input-12-127b78ddf113>\u001b[0m in \u001b[0;36m<module>\u001b[1;34m()\u001b[0m\n\u001b[0;32m      2\u001b[0m \u001b[1;32mimport\u001b[0m \u001b[0mmatplotlib\u001b[0m\u001b[1;33m.\u001b[0m\u001b[0mpyplot\u001b[0m \u001b[1;32mas\u001b[0m \u001b[0mplt\u001b[0m\u001b[1;33m\u001b[0m\u001b[0m\n\u001b[0;32m      3\u001b[0m \u001b[0mD\u001b[0m\u001b[1;33m=\u001b[0m \u001b[0mmain\u001b[0m\u001b[1;33m(\u001b[0m\u001b[1;36m100\u001b[0m\u001b[1;33m)\u001b[0m\u001b[1;33m\u001b[0m\u001b[0m\n\u001b[1;32m----> 4\u001b[1;33m \u001b[0mplt\u001b[0m\u001b[1;33m.\u001b[0m\u001b[0mbar\u001b[0m\u001b[1;33m(\u001b[0m\u001b[0my_pos\u001b[0m\u001b[1;33m,\u001b[0m \u001b[0mperformance\u001b[0m\u001b[1;33m,\u001b[0m \u001b[0malign\u001b[0m\u001b[1;33m=\u001b[0m\u001b[1;34m'center'\u001b[0m\u001b[1;33m,\u001b[0m \u001b[0malpha\u001b[0m\u001b[1;33m=\u001b[0m\u001b[1;36m0.5\u001b[0m\u001b[1;33m)\u001b[0m\u001b[1;33m\u001b[0m\u001b[0m\n\u001b[0m\u001b[0;32m      5\u001b[0m \u001b[0mplt\u001b[0m\u001b[1;33m.\u001b[0m\u001b[0mxticks\u001b[0m\u001b[1;33m(\u001b[0m\u001b[0my_pos\u001b[0m\u001b[1;33m,\u001b[0m \u001b[0mobjects\u001b[0m\u001b[1;33m)\u001b[0m\u001b[1;33m\u001b[0m\u001b[0m\n\u001b[0;32m      6\u001b[0m \u001b[0mplt\u001b[0m\u001b[1;33m.\u001b[0m\u001b[0mylabel\u001b[0m\u001b[1;33m(\u001b[0m\u001b[1;34m'Usage'\u001b[0m\u001b[1;33m)\u001b[0m\u001b[1;33m\u001b[0m\u001b[0m\n",
      "\u001b[1;31mNameError\u001b[0m: name 'y_pos' is not defined"
     ]
    }
   ],
   "source": [
    "import matplotlib.pyplot as plt; plt\n",
    "import matplotlib.pyplot as plt\n",
    "D= main(100)\n",
    "plt.bar(y_pos, performance, align='center', alpha=0.5)\n",
    "plt.xticks(y_pos, objects)\n",
    "plt.ylabel('Usage')\n",
    "plt.title(' Tournament ')\n",
    " \n",
    "plt.show()"
   ]
  },
  {
   "cell_type": "markdown",
   "metadata": {},
   "source": [
    "<font color=\"red\"><b>Q-3:</b></font><font color=\"purple\">Comment on the the most successful strategy found. Include a brief explanation of why this strategy has been successful and the number of rounds to achieve this performance.</font>  <b> (6 marks)</b>"
   ]
  },
  {
   "cell_type": "code",
   "execution_count": null,
   "metadata": {
    "collapsed": true
   },
   "outputs": [],
   "source": []
  },
  {
   "cell_type": "markdown",
   "metadata": {},
   "source": [
    "<font color=\"red\"><b>Q-4:</b></font><font color=\"purple\">Including a brief explanation, give the asymptotic (big-O) times for the run_tournament (a) and run_head_to_head methods (b) in the Referee class?</font>  <b> (2 marks each)</b>"
   ]
  },
  {
   "cell_type": "code",
   "execution_count": null,
   "metadata": {
    "collapsed": true
   },
   "outputs": [],
   "source": [
    "    asymptotic time\n",
    "a)\n",
    "b)"
   ]
  },
  {
   "cell_type": "markdown",
   "metadata": {},
   "source": [
    "Note: This is an <b>individual assignment</b>; sharing your work with colleagues or passing off the work of others as your own is plagiarism and will harm your chance to successfully complete this module. "
   ]
  }
 ],
 "metadata": {
  "kernelspec": {
   "display_name": "Python 2",
   "language": "python",
   "name": "python2"
  },
  "language_info": {
   "codemirror_mode": {
    "name": "ipython",
    "version": 2
   },
   "file_extension": ".py",
   "mimetype": "text/x-python",
   "name": "python",
   "nbconvert_exporter": "python",
   "pygments_lexer": "ipython2",
   "version": "2.7.15"
  }
 },
 "nbformat": 4,
 "nbformat_minor": 2
}
